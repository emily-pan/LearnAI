{
  "nbformat": 4,
  "nbformat_minor": 0,
  "metadata": {
    "colab": {
      "name": "Week 0 - Colab Tutorial.ipynb",
      "provenance": [],
      "collapsed_sections": [],
      "toc_visible": true,
      "include_colab_link": true
    },
    "kernelspec": {
      "name": "python3",
      "display_name": "Python 3"
    }
  },
  "cells": [
    {
      "cell_type": "markdown",
      "metadata": {
        "id": "view-in-github",
        "colab_type": "text"
      },
      "source": [
        "<a href=\"https://colab.research.google.com/github/emily-pan/LearnAI/blob/main/Week_0_Colab_Tutorial.ipynb\" target=\"_parent\"><img src=\"https://colab.research.google.com/assets/colab-badge.svg\" alt=\"Open In Colab\"/></a>"
      ]
    },
    {
      "cell_type": "markdown",
      "metadata": {
        "id": "1E9COxX5xzcb"
      },
      "source": [
        "## Exploring Colab"
      ]
    },
    {
      "cell_type": "markdown",
      "metadata": {
        "id": "Jbu1Z5-BlNfV"
      },
      "source": [
        "Google Colab allows people to write and execute python code in-browser in sections as well as make formatted comments. This is invaluable when working with others and keeping your code accessible.\n",
        "\n",
        "It is perfect for the purposes of this course, and we highly encourage you to use it as well!\n",
        "\n",
        "Let's explore this tool!"
      ]
    },
    {
      "cell_type": "markdown",
      "metadata": {
        "id": "BoPAz73LAf-2"
      },
      "source": [
        "## Permissions & Copying"
      ]
    },
    {
      "cell_type": "markdown",
      "metadata": {
        "id": "MUC_uhLzAjBB"
      },
      "source": [
        "To protect this content for future use, editing this document will not edit the original.\n",
        "\n",
        "This goes for all future tutorial notebooks we provide."
      ]
    },
    {
      "cell_type": "markdown",
      "metadata": {
        "id": "y4x7jvCXGBGg"
      },
      "source": [
        "When you edit this notebook, Colab creates a local copy.\n",
        "\n",
        "However, to access the notebook later, you must save it!\n",
        "\n",
        "Always do this at the start of tutorial to avoid potential issues, and so you don't forget!"
      ]
    },
    {
      "cell_type": "markdown",
      "metadata": {
        "id": "yAx8topKAtsd"
      },
      "source": [
        "Let's try saving it now!\n",
        "- Click 'File'\n",
        "- Click 'Save a copy in Drive'"
      ]
    },
    {
      "cell_type": "markdown",
      "metadata": {
        "id": "3a8CBqfkBD1m"
      },
      "source": [
        "If you did that, you should be reading this on a copy of the notebook which you own!\n",
        "\n",
        "The notebook name should start with 'Copy of ...'"
      ]
    },
    {
      "cell_type": "markdown",
      "metadata": {
        "id": "O6KcnqpfBNeb"
      },
      "source": [
        "Just remember this is always the first step during course tutorials!\n",
        "\n",
        "From here, this is your notebook, so you don't have to worry about permissions!"
      ]
    },
    {
      "cell_type": "markdown",
      "metadata": {
        "id": "oKAoxorcB6Gb"
      },
      "source": [
        "*Note: In more recent versions of Colab, you can technically edit the notebook, but can't save. Still, follow the above steps to create a copy!*"
      ]
    },
    {
      "cell_type": "markdown",
      "metadata": {
        "id": "_LiqvK4Ty1R0"
      },
      "source": [
        "## Cells & Output"
      ]
    },
    {
      "cell_type": "markdown",
      "metadata": {
        "id": "aE-iAUGBxwBJ"
      },
      "source": [
        "This is a text cell."
      ]
    },
    {
      "cell_type": "markdown",
      "metadata": {
        "id": "wmb-h-RFx_hS"
      },
      "source": [
        "Below me is a code cell.\n",
        "\n",
        "You can run a code cell by hovering over the brackets and clicking the Play button. Try it out!"
      ]
    },
    {
      "cell_type": "code",
      "metadata": {
        "id": "zgQeVA27xxh4"
      },
      "source": [
        "# This is a code cell, which runs regular Python code!\n",
        "s1 = \"Hello\"\n",
        "s2 = \"world!\"\n",
        "print(s1 + \" \" + s2)"
      ],
      "execution_count": null,
      "outputs": []
    },
    {
      "cell_type": "markdown",
      "metadata": {
        "id": "ZUdQqOB9yRyO"
      },
      "source": [
        "If you've run the cell, you should be able to see the output \"Hello world!\"\n",
        "\n",
        "Try hovering over this output. You should then see a box with an arrow.\n",
        "\n",
        "If you hover over this box, you should see an X. Click the X to clear the output!"
      ]
    },
    {
      "cell_type": "markdown",
      "metadata": {
        "id": "eZ_0x8bNyR5T"
      },
      "source": [
        "The three ways to get output in Colab are as follows:\n",
        "\n",
        "- Using a print statement\n",
        "- Plotting something\n",
        "- The final line of a code cell is a variable with no assignment, Colab will print said variable"
      ]
    },
    {
      "cell_type": "code",
      "metadata": {
        "id": "3JU_NHja1bX1"
      },
      "source": [
        "s1 = \"Hello\"\n",
        "s2 = \"there\""
      ],
      "execution_count": null,
      "outputs": []
    },
    {
      "cell_type": "code",
      "metadata": {
        "id": "SAuGQcwUzE8V"
      },
      "source": [
        "print(s1)"
      ],
      "execution_count": null,
      "outputs": []
    },
    {
      "cell_type": "code",
      "metadata": {
        "id": "dYM9uajWzI77"
      },
      "source": [
        "s2"
      ],
      "execution_count": null,
      "outputs": []
    },
    {
      "cell_type": "markdown",
      "metadata": {
        "id": "9w8Q-LCu1iPR"
      },
      "source": [
        "It's important to note that variables are shared across cells, which is why we could print `s1` and `s2` in subsequent cells!"
      ]
    },
    {
      "cell_type": "markdown",
      "metadata": {
        "id": "Jj32NQVu5C8d"
      },
      "source": [
        "## Table of Contents"
      ]
    },
    {
      "cell_type": "markdown",
      "metadata": {
        "id": "e4dVdmn75Gnd"
      },
      "source": [
        "Curious as to what this notebook will teach you? Check out the table of contents!\n",
        "\n",
        "On the top of the leftmost sidebar, you will see an icon which, when clicked, will open a table of contents, showing the Notebook's titles.\n",
        "\n",
        "You can navigate to different parts of the notebook simply by clicking on these titles!"
      ]
    },
    {
      "cell_type": "markdown",
      "metadata": {
        "id": "IatQWccwzaDz"
      },
      "source": [
        "## Runtime"
      ]
    },
    {
      "cell_type": "markdown",
      "metadata": {
        "id": "RCTPzz31zdqo"
      },
      "source": [
        "In the top menu bar, click 'Runtime'."
      ]
    },
    {
      "cell_type": "markdown",
      "metadata": {
        "id": "Q--OWr4B-hU9"
      },
      "source": [
        "Notice all of the 'Run X' options. These are super helpful! Especially\n",
        "- Run all - Run all code cells in the notebook\n",
        "- Run before - Run all code before the currently selected (focused) cell\n",
        "- Run after - Run all code after the currently selected (focused) cell"
      ]
    },
    {
      "cell_type": "markdown",
      "metadata": {
        "id": "bZq9UVoj-hhL"
      },
      "source": [
        "Another vital option under 'Runtime' is 'Change runtime type'!\n",
        "\n",
        "Here, you can select a hardware accelerator (GPU or TPU).\n",
        "\n",
        "With the right setup, this can make training certain machine learning models **much** faster!"
      ]
    },
    {
      "cell_type": "markdown",
      "metadata": {
        "id": "4IJkD7WyzeP5"
      },
      "source": [
        "## Hidden Cells"
      ]
    },
    {
      "cell_type": "markdown",
      "metadata": {
        "id": "pzDZGlhIvmBz"
      },
      "source": [
        "In Colab, it's possible to hide code cells by beginning the cell with the line `#@title`\n",
        "\n",
        "To show these sections, click on the **Show code** text or double click on the cell."
      ]
    },
    {
      "cell_type": "markdown",
      "metadata": {
        "id": "KZduZwPE2YVZ"
      },
      "source": [
        "You may see hidden cells in the tutorials, and they are the solutions to the exercises you're being asked!\n",
        "\n",
        "However, be careful. If you simply unshow the cell without putting in any effort, *you will learn nothing*.\n",
        "\n",
        "Only unhide cells after trying to solve it yourself, and further, trying to debug/search for help online if your initial solution doesn't work."
      ]
    },
    {
      "cell_type": "markdown",
      "metadata": {
        "id": "bu6RxPWw2UeF"
      },
      "source": [
        "Try unhiding the cell directly below, running it, and clearing the output."
      ]
    },
    {
      "cell_type": "code",
      "metadata": {
        "id": "csHcT4yHP51G",
        "cellView": "form"
      },
      "source": [
        "#@title\n",
        "s = \"Secret text\"\n",
        "print(\"{} - using the print function\".format(s))\n",
        "\"{} - without the print function)\".format(s)"
      ],
      "execution_count": null,
      "outputs": []
    },
    {
      "cell_type": "markdown",
      "metadata": {
        "id": "5VV-1NPwf0Ma"
      },
      "source": [
        "# Imports"
      ]
    },
    {
      "cell_type": "markdown",
      "metadata": {
        "id": "ZHsVIvZZ4Rtw"
      },
      "source": [
        "More or less, imports in Colab work the same as in Python!\n",
        "\n",
        "Colab even has a list of libraries which it has installed by default, e.g.,"
      ]
    },
    {
      "cell_type": "code",
      "metadata": {
        "id": "_uq3T5NgG1II"
      },
      "source": [
        "import pandas as pd\n",
        "import numpy as np\n",
        "import matplotlib.pyplot as plt"
      ],
      "execution_count": null,
      "outputs": []
    },
    {
      "cell_type": "markdown",
      "metadata": {
        "id": "dSv4HB-t7XJl"
      },
      "source": [
        "We'll be seeing a lot of these libraries in the coming weeks!"
      ]
    },
    {
      "cell_type": "markdown",
      "metadata": {
        "id": "kpJxLNL70o2o"
      },
      "source": [
        "## Command-Line & Package Installation"
      ]
    },
    {
      "cell_type": "code",
      "metadata": {
        "id": "_J7SBTga0fUK"
      },
      "source": [
        "# This should fail unless you've already run the pip install cell below it!\n",
        "import sweetviz"
      ],
      "execution_count": null,
      "outputs": []
    },
    {
      "cell_type": "markdown",
      "metadata": {
        "id": "Nz2k3DYs0s-i"
      },
      "source": [
        "Colab has everything! This includes a built-in command-line terminal, which can be accessed by simply beginning the command with an exclamation mark\n",
        "\n",
        "Notably, this gives you access to pip, allowing you to quickly and easily install any packages it supports!\n",
        "\n",
        "This is very helpful for the less common packages which Colab doesn't install by default."
      ]
    },
    {
      "cell_type": "code",
      "metadata": {
        "id": "uM54knok0nGz"
      },
      "source": [
        "!pip install sweetviz"
      ],
      "execution_count": null,
      "outputs": []
    },
    {
      "cell_type": "code",
      "metadata": {
        "id": "uUP3K7qq7Isp"
      },
      "source": [
        "# If you've run the pip install, the import should now work!\n",
        "import sweetviz"
      ],
      "execution_count": null,
      "outputs": []
    },
    {
      "cell_type": "markdown",
      "metadata": {
        "id": "1XgREugrRa6o"
      },
      "source": [
        "# Data Loading\n",
        "\n",
        "\n"
      ]
    },
    {
      "cell_type": "markdown",
      "metadata": {
        "id": "NzP2Z9zi4Wpv"
      },
      "source": [
        "Artificial intelligence and machine learning are based on data, so we know we'll need some!\n",
        "\n",
        "But how do we get this data into our notebook?"
      ]
    },
    {
      "cell_type": "markdown",
      "metadata": {
        "id": "-5NnactV3mck"
      },
      "source": [
        "## Links"
      ]
    },
    {
      "cell_type": "markdown",
      "metadata": {
        "id": "jiqXNJHE3iM6"
      },
      "source": [
        "Find data which is available online through a link!\n",
        "\n",
        "Depending on filetype, data from links can be loaded by many libaries, such as NumPy and Pandas!"
      ]
    },
    {
      "cell_type": "code",
      "metadata": {
        "id": "6Vjb3D3__VQw"
      },
      "source": [
        "link = \"https://gist.githubusercontent.com/netj/8836201/raw/6f9306ad21398ea43cba4f7d537619d0e07d5ae3/iris.csv\"\n",
        "df = pd.read_csv(link) # Fun fact: df stands for DataFrame!\n",
        "df"
      ],
      "execution_count": null,
      "outputs": []
    },
    {
      "cell_type": "markdown",
      "metadata": {
        "id": "9FjUVGaS_wIy"
      },
      "source": [
        "This is mostly useful for testing purposes, unless the data you need is conveniently available through a link!"
      ]
    },
    {
      "cell_type": "markdown",
      "metadata": {
        "id": "SDBLZ3TH3up8"
      },
      "source": [
        "## Libraries"
      ]
    },
    {
      "cell_type": "markdown",
      "metadata": {
        "id": "OiTyjbFE3kGM"
      },
      "source": [
        "Load the data in through various libraries. Many libaries, such as Keras, give you access to different sorts of datasets, which could even save you valuable time doing pre-processing, e.g."
      ]
    },
    {
      "cell_type": "code",
      "metadata": {
        "id": "egjgP8d7420Z"
      },
      "source": [
        "from keras.datasets import mnist\n",
        "(x_train, y_train), (x_test, y_test) = mnist.load_data()"
      ],
      "execution_count": null,
      "outputs": []
    },
    {
      "cell_type": "code",
      "metadata": {
        "id": "V6UR4lau64oX"
      },
      "source": [
        "print(x_train.shape, y_train.shape)\n",
        "print(x_test.shape, y_test.shape)"
      ],
      "execution_count": null,
      "outputs": []
    },
    {
      "cell_type": "markdown",
      "metadata": {
        "id": "wGh3or7Q6wtv"
      },
      "source": [
        "You don't have to understand what's happening here yet, but understand that we got a large dataset into our notebook in no time!"
      ]
    },
    {
      "cell_type": "markdown",
      "metadata": {
        "id": "x1_TANVs3xDf"
      },
      "source": [
        "## Mounting Drive"
      ]
    },
    {
      "cell_type": "markdown",
      "metadata": {
        "id": "rbnAPVc83zJy"
      },
      "source": [
        "You can load any data you want from your Google Drive!\n",
        "\n",
        "To do this, you 'mount' the Drive, which essentially means that you connect to its file system.\n",
        "\n",
        "You can do it this by following these steps:\n",
        "- Run the cell below\n",
        "- Click the authorization link which appears (After \"Go to this URL in a browser:\")\n",
        "- This will open a new window where you can log into your account\n",
        "- Copy the long access code which appears (Double click & CTRL-C)\n",
        "- Come back to this notebook\n",
        "- Paste the link into the input (\"Enter your authorization code:\")\n",
        "- Hit enter and wait a moment\n",
        "\n",
        "If this all works, you should get a \"Mounted at ...\" message!"
      ]
    },
    {
      "cell_type": "code",
      "metadata": {
        "id": "XJB4OzKK7z5w"
      },
      "source": [
        "import os\n",
        "from google.colab import drive\n",
        "drive.mount('/content/drive', force_remount=True)"
      ],
      "execution_count": null,
      "outputs": []
    },
    {
      "cell_type": "markdown",
      "metadata": {
        "id": "r2CNBZ8H74sD"
      },
      "source": [
        "Now this notebook is mounted to the main directory of your Google Drive!"
      ]
    },
    {
      "cell_type": "markdown",
      "metadata": {
        "id": "DTXODBOv0U3f"
      },
      "source": [
        "One vital command to remember is 'Runtime' --> 'Factory reset runtime', which resets the notebook.\n",
        "\n",
        "This is helpful when something has gone wrong, you need to clean up your files or variables, or when you want to re-mount to the Drive."
      ]
    },
    {
      "cell_type": "markdown",
      "metadata": {
        "id": "V8OHAGqK9v0N"
      },
      "source": [
        "What if your data isn't in the main Drive directory? You can change your working directory, same as in a regular Python script!"
      ]
    },
    {
      "cell_type": "markdown",
      "metadata": {
        "id": "QGAdvTiE8ZDp"
      },
      "source": [
        "**Note: The next two cells will fail, only because the folder/Shared Drive don't exist**"
      ]
    },
    {
      "cell_type": "code",
      "metadata": {
        "id": "xSqIYTFw7xDo"
      },
      "source": [
        "os.chdir('/content/drive/a_data_folder')"
      ],
      "execution_count": null,
      "outputs": []
    },
    {
      "cell_type": "markdown",
      "metadata": {
        "id": "z7S4Oj-58OHi"
      },
      "source": [
        "You can even use this to access data in Shared Drives, provided you have the permissions!"
      ]
    },
    {
      "cell_type": "code",
      "metadata": {
        "id": "_6I6K2Zq8CnD"
      },
      "source": [
        "os.chdir('/content/drive/Shared drives/a_shared_drive/')"
      ],
      "execution_count": null,
      "outputs": []
    },
    {
      "cell_type": "markdown",
      "metadata": {
        "id": "nmB3i16w-Lzj"
      },
      "source": [
        "# Conclusion"
      ]
    },
    {
      "cell_type": "markdown",
      "metadata": {
        "id": "Ga9iOdEB-KGK"
      },
      "source": [
        "That's everything!\n",
        "\n",
        "There's certainly more to this tool you should explore, but you now have the skills to use and enjoy Colab for the purposes of this course!"
      ]
    }
  ]
}