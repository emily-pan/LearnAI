{
  "nbformat": 4,
  "nbformat_minor": 0,
  "metadata": {
    "colab": {
      "name": "Week 2 Numpy Tutorial.ipynb",
      "provenance": [],
      "collapsed_sections": [],
      "toc_visible": true,
      "include_colab_link": true
    },
    "kernelspec": {
      "name": "python3",
      "display_name": "Python 3"
    }
  },
  "cells": [
    {
      "cell_type": "markdown",
      "metadata": {
        "id": "view-in-github",
        "colab_type": "text"
      },
      "source": [
        "<a href=\"https://colab.research.google.com/github/emily-pan/LearnAI/blob/main/Week_2_Numpy_Tutorial.ipynb\" target=\"_parent\"><img src=\"https://colab.research.google.com/assets/colab-badge.svg\" alt=\"Open In Colab\"/></a>"
      ]
    },
    {
      "cell_type": "markdown",
      "metadata": {
        "id": "jbPCAJ7abfJW"
      },
      "source": [
        "\n",
        "# Week 2 Numpy Class\n",
        "Proprietary material - Under Creative Commons 4.0 licence CC-BY-NC-ND https://creativecommons.org/licenses/by-nc-nd/4.0/"
      ]
    },
    {
      "cell_type": "markdown",
      "metadata": {
        "id": "v25riZpeVuUf"
      },
      "source": [
        "Previous content needed for this material:\n",
        "\n",
        "- Functions\n",
        "\n",
        "- Methods \n",
        "\n",
        "- Helpful: Basics of Linear Algebra"
      ]
    },
    {
      "cell_type": "markdown",
      "metadata": {
        "id": "gPmg2KbMYTwV"
      },
      "source": [
        "## Preamble: Basic Libraries"
      ]
    },
    {
      "cell_type": "markdown",
      "metadata": {
        "id": "QQmuCHIt4ux8"
      },
      "source": [
        "Before jumping into Numpy, lets quickly see how to install and import Python libraries alongside with some basic and helpful libraries!"
      ]
    },
    {
      "cell_type": "markdown",
      "metadata": {
        "id": "lreZj262-LdL"
      },
      "source": [
        "If a library contains several modules, those can also be individualy imported using `from`. \n",
        "\n",
        "Lets see a commonly used example:"
      ]
    },
    {
      "cell_type": "code",
      "metadata": {
        "id": "P_N7UtSr-Zkq"
      },
      "source": [
        "from os import path\n",
        "path.isfile(\"fakefile\")"
      ],
      "execution_count": null,
      "outputs": []
    },
    {
      "cell_type": "markdown",
      "metadata": {
        "id": "dOfNfYkyAL5S"
      },
      "source": [
        "Libraries can also be imported using an alias by using `as` - this just changes (often shortening) their name!\n",
        "\n",
        "Some libraries have aliases which are conventionally, and universally used, e.g.,\n",
        "\n",
        "- `import numpy as np`\n",
        "- `import pandas as pd`\n",
        "- `import matplotlib.pyplot as plt`"
      ]
    },
    {
      "cell_type": "code",
      "metadata": {
        "id": "rs0jqsULAK4V"
      },
      "source": [
        "import numpy as np"
      ],
      "execution_count": null,
      "outputs": []
    },
    {
      "cell_type": "markdown",
      "metadata": {
        "id": "Ywq0BGm1Cdu7"
      },
      "source": [
        "### OS & Path"
      ]
    },
    {
      "cell_type": "markdown",
      "metadata": {
        "id": "Qc5dWJl8DkXB"
      },
      "source": [
        "`os` and `os.path` are vital for data loading purposes."
      ]
    },
    {
      "cell_type": "code",
      "metadata": {
        "id": "FujVX4HjCktZ"
      },
      "source": [
        "import os\n",
        "from os import path"
      ],
      "execution_count": null,
      "outputs": []
    },
    {
      "cell_type": "code",
      "metadata": {
        "id": "3Kb-Pn6dCxUt"
      },
      "source": [
        "# Change the current working directory to a relative or absolute path\n",
        "os.chdir('.') # - This just keeps the path the same"
      ],
      "execution_count": null,
      "outputs": []
    },
    {
      "cell_type": "code",
      "metadata": {
        "id": "XqTGLmz4C9mx"
      },
      "source": [
        "# List the files in the current working directory\n",
        "os.listdir()"
      ],
      "execution_count": null,
      "outputs": []
    },
    {
      "cell_type": "code",
      "metadata": {
        "id": "xOYd2xGeDFPA"
      },
      "source": [
        "# List all the files in the current working directory with a specific extension\n",
        "ext = \".csv\"\n",
        "[file for file in os.listdir() if path.isfile(file) and \\\n",
        "  file.lower().endswith(ext)]"
      ],
      "execution_count": null,
      "outputs": []
    },
    {
      "cell_type": "markdown",
      "metadata": {
        "id": "i6jkuTwm-Ysu"
      },
      "source": [
        "### Math"
      ]
    },
    {
      "cell_type": "markdown",
      "metadata": {
        "id": "65cmAslS_moW"
      },
      "source": [
        "The library Math includes several basic math functions and constants."
      ]
    },
    {
      "cell_type": "code",
      "metadata": {
        "id": "DQ_zSG9zAI0T"
      },
      "source": [
        "import math as m\n",
        "\n",
        "print('pi: {}'.format(m.pi))\n",
        "print('e: {}'.format(m.e))\n",
        "\n",
        "print('cos(0): {}'.format(m.cos(0)))\n",
        "print('cos(pi): {}'.format(m.cos(m.pi)))"
      ],
      "execution_count": null,
      "outputs": []
    },
    {
      "cell_type": "markdown",
      "metadata": {
        "id": "Ee_51dVeB4gY"
      },
      "source": [
        "### Pickle"
      ]
    },
    {
      "cell_type": "markdown",
      "metadata": {
        "id": "vMRM64LtDAZb"
      },
      "source": [
        "While working with data, it is often important to save and compress the data. The library Pickle allows us to save and load data structures and objects in a format similar to a .zip or .rar.\n",
        "\n",
        "Since it writes raw data, it can save and load variables, classes, and so much more! Essentially, if you have something which can't nicely be saved (like a NumPy array or Pandas DataFrame), then Pickle is the correct choice!"
      ]
    },
    {
      "cell_type": "code",
      "metadata": {
        "id": "hrEwh-vnBUdc"
      },
      "source": [
        "import pickle \n",
        "\n",
        "file = 'Some large file'\n",
        "\n",
        "with open('pickle_test.pkl', 'bw') as handler: # b = binary, w = write\n",
        "    pickle.dump(file, handler) # Saves the file"
      ],
      "execution_count": null,
      "outputs": []
    },
    {
      "cell_type": "code",
      "metadata": {
        "id": "708ddhotExZ8"
      },
      "source": [
        "del file # Deletes the object file"
      ],
      "execution_count": null,
      "outputs": []
    },
    {
      "cell_type": "code",
      "metadata": {
        "id": "cBiuc9zZE-sx"
      },
      "source": [
        "with open('pickle_test.pkl','br') as data: # r = read\n",
        "    file = pickle.load(data) # Loads the data\n",
        "file"
      ],
      "execution_count": null,
      "outputs": []
    },
    {
      "cell_type": "markdown",
      "metadata": {
        "id": "V5dHWXW-NzBT"
      },
      "source": [
        "### Time\n",
        "\n",
        "The time library contains several methods to access and measure time."
      ]
    },
    {
      "cell_type": "code",
      "metadata": {
        "id": "VUzR_GSYFNAe"
      },
      "source": [
        "import time\n",
        "\n",
        "print(time.gmtime())"
      ],
      "execution_count": null,
      "outputs": []
    },
    {
      "cell_type": "code",
      "metadata": {
        "id": "vBIbCi-gO0kc"
      },
      "source": [
        "start = time.time() # gets starting time\n",
        "\n",
        "time.sleep(5) # waits 5 seconds\n",
        "\n",
        "end = time.time() # gets end time\n",
        "\n",
        "print('Execution time: ', end - start) # total time "
      ],
      "execution_count": null,
      "outputs": []
    },
    {
      "cell_type": "markdown",
      "metadata": {
        "id": "Vl6YxOdSQvq4"
      },
      "source": [
        "Measuring execution time can be a powefull tool when optimizing a time costly operation. \n",
        "\n",
        "Even if this implementation works good enough, as a side note let's introduce some more powerfull time measuring tools.  \n",
        "\n",
        "In a notebook, we can the functions time and timeit as cell magic to measure the time of simple processes.\n",
        "\n",
        "Let's see an example:\n"
      ]
    },
    {
      "cell_type": "code",
      "metadata": {
        "id": "JgszfVAQPVzb"
      },
      "source": [
        "%%time \n",
        "\n",
        "time.sleep(3) # Or some other process"
      ],
      "execution_count": null,
      "outputs": []
    },
    {
      "cell_type": "code",
      "metadata": {
        "id": "J4cWvCYxb6Iy"
      },
      "source": [
        "%%timeit \n",
        "\n",
        "time.sleep(3)"
      ],
      "execution_count": null,
      "outputs": []
    },
    {
      "cell_type": "markdown",
      "metadata": {
        "id": "uNYqijJ_cwRg"
      },
      "source": [
        "## Numpy"
      ]
    },
    {
      "cell_type": "markdown",
      "metadata": {
        "id": "EKaRer2ucy7-"
      },
      "source": [
        "NumPy (Numerical Python) is an open source, industry-standard Python library for numerical computation.\n",
        "\n",
        "It contains high performance operations for mathematics, linear algebra, probabilities and data manipulation!"
      ]
    },
    {
      "cell_type": "markdown",
      "metadata": {
        "id": "8Nbp0u4NFwHF"
      },
      "source": [
        "One notable feature of NumPy is its efficient handling of multidimentional arrays - using its integration with C/C++ and Fortran.\n",
        "\n",
        "The NumPy API is used extensively in Pandas, SciPy, Matplotlib, scikit-learn, scikit-image and most other data science and scientific Python packages, so it really is the platform off which so many libraries are based!"
      ]
    },
    {
      "cell_type": "markdown",
      "metadata": {
        "id": "Oy7jUHmLxysH"
      },
      "source": [
        "In Google Colaboratory, Numpy is installed by default, but it still needs to be imported. This is usually done with the alias np."
      ]
    },
    {
      "cell_type": "code",
      "metadata": {
        "id": "wEPawTZc-1co"
      },
      "source": [
        "#TODO - Import numpy with alias 'np'\n",
        "import numpy as np"
      ],
      "execution_count": 3,
      "outputs": []
    },
    {
      "cell_type": "code",
      "metadata": {
        "id": "pVLqggq1Gp4C"
      },
      "source": [
        "#@title\n",
        "import numpy as np"
      ],
      "execution_count": 1,
      "outputs": []
    },
    {
      "cell_type": "markdown",
      "metadata": {
        "id": "MKxslnKox7nQ"
      },
      "source": [
        "## Arrays & Initialization"
      ]
    },
    {
      "cell_type": "markdown",
      "metadata": {
        "id": "V01IIs8Tzbyn"
      },
      "source": [
        "Numpy arrays are a data structure similar to a Python list, with some key differences. You'll encounter them constantly when training machine learning models, as they are efficient and paired with a lot of useful methods!"
      ]
    },
    {
      "cell_type": "markdown",
      "metadata": {
        "id": "yCGpa18qGdZ-"
      },
      "source": [
        "Array initialization – creating NumPy arrays – is a good place to begin.\n",
        "\n",
        "An array can be initialized by the following ways:"
      ]
    },
    {
      "cell_type": "markdown",
      "metadata": {
        "id": "b9Nr4t6QCYxK"
      },
      "source": [
        "Creating an empty NumPy array"
      ]
    },
    {
      "cell_type": "code",
      "metadata": {
        "id": "uzoY4RxV9bo2"
      },
      "source": [
        "empty_arr = np.array([])\n",
        "empty_arr"
      ],
      "execution_count": null,
      "outputs": []
    },
    {
      "cell_type": "markdown",
      "metadata": {
        "id": "hlieSRx2CdB4"
      },
      "source": [
        "Creating an array from a list"
      ]
    },
    {
      "cell_type": "code",
      "metadata": {
        "id": "X_J1_g_2BOze"
      },
      "source": [
        "lst = [1, 2, 3, 4]\n",
        "lst_arr = np.array(lst)\n",
        "lst_arr"
      ],
      "execution_count": null,
      "outputs": []
    },
    {
      "cell_type": "markdown",
      "metadata": {
        "id": "S2wNKpgDCqBu"
      },
      "source": [
        "Creating an array from n-dimension list"
      ]
    },
    {
      "cell_type": "code",
      "metadata": {
        "id": "4XXN2XDQCRZj"
      },
      "source": [
        "lst_2d = [[1,2], \\\n",
        "          [3,4]]\n",
        "arr_2d = np.array(lst_2d)\n",
        "arr_2d"
      ],
      "execution_count": null,
      "outputs": []
    },
    {
      "cell_type": "markdown",
      "metadata": {
        "id": "lWra-AOck14v"
      },
      "source": [
        "Creating an array using all default values.\n",
        "\n",
        "Note that here, the values we pass in are the size for each dimension"
      ]
    },
    {
      "cell_type": "code",
      "metadata": {
        "id": "i6U22IxalC1G",
        "outputId": "f653b1f2-156f-4d63-f705-7cc82bfdac7d",
        "colab": {
          "base_uri": "https://localhost:8080/"
        }
      },
      "source": [
        "np.ones([2, 3]) # First dimension of size 2, second of size 3"
      ],
      "execution_count": 7,
      "outputs": [
        {
          "output_type": "execute_result",
          "data": {
            "text/plain": [
              "array([[1., 1., 1.],\n",
              "       [1., 1., 1.]])"
            ]
          },
          "metadata": {},
          "execution_count": 7
        }
      ]
    },
    {
      "cell_type": "code",
      "metadata": {
        "id": "jnH9ebbylU8M",
        "outputId": "f9406f00-4fe6-4bff-e2b1-0101299fc17a",
        "colab": {
          "base_uri": "https://localhost:8080/"
        }
      },
      "source": [
        "np.zeros((2, 3)) # A tuple can also be passed"
      ],
      "execution_count": 4,
      "outputs": [
        {
          "output_type": "execute_result",
          "data": {
            "text/plain": [
              "array([[0., 0., 0.],\n",
              "       [0., 0., 0.]])"
            ]
          },
          "metadata": {},
          "execution_count": 4
        }
      ]
    },
    {
      "cell_type": "code",
      "metadata": {
        "id": "34UexyMjI0oA",
        "outputId": "66df19fd-cd27-4076-819a-227443ed33dd",
        "colab": {
          "base_uri": "https://localhost:8080/"
        }
      },
      "source": [
        "np.full((3, 2), 7) # We can also pick any constant value!"
      ],
      "execution_count": 5,
      "outputs": [
        {
          "output_type": "execute_result",
          "data": {
            "text/plain": [
              "array([[7, 7],\n",
              "       [7, 7],\n",
              "       [7, 7]])"
            ]
          },
          "metadata": {},
          "execution_count": 5
        }
      ]
    },
    {
      "cell_type": "markdown",
      "metadata": {
        "id": "9fYWOTnUZbGL"
      },
      "source": [
        "Create an array of random numbers between [0,1]"
      ]
    },
    {
      "cell_type": "code",
      "metadata": {
        "id": "dpdn490ZZlEw"
      },
      "source": [
        "np.random.random([2,3])"
      ],
      "execution_count": null,
      "outputs": []
    },
    {
      "cell_type": "markdown",
      "metadata": {
        "id": "dYv3rsozZOyp"
      },
      "source": [
        "Create an array using `arange` - Similar to Python's `range` function"
      ]
    },
    {
      "cell_type": "code",
      "metadata": {
        "id": "DztsShvYajp4"
      },
      "source": [
        "# Array with the integers 0, 1, ... , 9\n",
        "np.arange(10) # Remember that the 0 is counted in Python"
      ],
      "execution_count": null,
      "outputs": []
    },
    {
      "cell_type": "code",
      "metadata": {
        "id": "hvF0F7VabIXG"
      },
      "source": [
        "# Arange can also accept a start and step argument\n",
        "# In this case, it only takes every second value\n",
        "np.arange(10, 20, 2) # Array of even numbers between 10 and 19 "
      ],
      "execution_count": null,
      "outputs": []
    },
    {
      "cell_type": "markdown",
      "metadata": {
        "id": "Lbu8iAQfJHGw"
      },
      "source": [
        "Create an array using `linspace`"
      ]
    },
    {
      "cell_type": "code",
      "metadata": {
        "id": "4Wz73CB3a183"
      },
      "source": [
        "# Array of 10 evenly spaced numbers between 0 and 5\n",
        "np.linspace(0, 5, 10) # start, stop, n_samples"
      ],
      "execution_count": null,
      "outputs": []
    },
    {
      "cell_type": "markdown",
      "metadata": {
        "id": "QVUTaabgMBFw"
      },
      "source": [
        "It's worth noting that these arrays should never be constructed element by element, i.e., its very inefficient to use `np.append` when creating a NumPy array from scratch!"
      ]
    },
    {
      "cell_type": "markdown",
      "metadata": {
        "id": "ZDZusZv9kEha"
      },
      "source": [
        "## Array dimension & shape"
      ]
    },
    {
      "cell_type": "markdown",
      "metadata": {
        "id": "BTqnDCnyJpM_"
      },
      "source": [
        "Numpy arrays are n-dimensional.\n",
        "\n",
        "Generally, a 1-dimensional array is called a vector, whereas one with two of more dimensionsis is a matrix.\n",
        "\n",
        "We initialized a 2D array in the previous section!"
      ]
    },
    {
      "cell_type": "markdown",
      "metadata": {
        "id": "NxcH63qjK6I0"
      },
      "source": [
        "It can be difficult to think in high-dimensional space, where things seem arbituary, but getting the correct shape and dimension of your data is crucial to having it function with machine learning models.\n",
        "\n",
        "Then, we need to tools and tricks to help us track and manipulate an arrays dimension! Three important properties a Numpy array has that describe the array dimensions, and those are .ndim, .size, and .shape."
      ]
    },
    {
      "cell_type": "code",
      "metadata": {
        "id": "KrNf8xbpM9wo",
        "outputId": "c3b766fb-851a-4cd3-fd72-0f257ddf6214",
        "colab": {
          "base_uri": "https://localhost:8080/"
        }
      },
      "source": [
        "m = np.ones((2, 3)) # matrix of 2x3, all with value 1\n",
        "m"
      ],
      "execution_count": 2,
      "outputs": [
        {
          "output_type": "execute_result",
          "data": {
            "text/plain": [
              "array([[1., 1., 1.],\n",
              "       [1., 1., 1.]])"
            ]
          },
          "metadata": {},
          "execution_count": 2
        }
      ]
    },
    {
      "cell_type": "markdown",
      "metadata": {
        "id": "llm2VOHOkQ-1"
      },
      "source": [
        "`ndim` : Returns the number of dimentions (also called the axes) in an array"
      ]
    },
    {
      "cell_type": "code",
      "metadata": {
        "id": "1ry6OFIlkDpK",
        "outputId": "a8f0525c-b2f2-4ca9-ced2-4cfee0a932c3",
        "colab": {
          "base_uri": "https://localhost:8080/"
        }
      },
      "source": [
        "m.ndim"
      ],
      "execution_count": 3,
      "outputs": [
        {
          "output_type": "execute_result",
          "data": {
            "text/plain": [
              "2"
            ]
          },
          "metadata": {},
          "execution_count": 3
        }
      ]
    },
    {
      "cell_type": "markdown",
      "metadata": {
        "id": "Q1_HxjjJIDNq"
      },
      "source": [
        "The shape of an array is the number of elements in each dimension.\n",
        "\n",
        "`shape` : Returns a tuple with the number of elements along each axis (in each dimension)."
      ]
    },
    {
      "cell_type": "code",
      "metadata": {
        "id": "1H8xtg3xICQQ"
      },
      "source": [
        "m.shape"
      ],
      "execution_count": null,
      "outputs": []
    },
    {
      "cell_type": "markdown",
      "metadata": {
        "id": "GH2hfjpnNGRd"
      },
      "source": [
        "Note that this shape is the same which we passed in to `np.ones`!\n",
        "\n",
        "In this case, we actually knew the shape already because we initialized the array with it, but sometimes we won't know, so its good to check!"
      ]
    },
    {
      "cell_type": "markdown",
      "metadata": {
        "id": "yE3MaISrIibG"
      },
      "source": [
        "`size` : Returns the total number of elements in an array. "
      ]
    },
    {
      "cell_type": "code",
      "metadata": {
        "id": "JbI5y_QEI55t",
        "outputId": "13232c01-6964-4ccc-88e9-82c133edb0d9",
        "colab": {
          "base_uri": "https://localhost:8080/"
        }
      },
      "source": [
        "m.size"
      ],
      "execution_count": 11,
      "outputs": [
        {
          "output_type": "execute_result",
          "data": {
            "text/plain": [
              "10"
            ]
          },
          "metadata": {},
          "execution_count": 11
        }
      ]
    },
    {
      "cell_type": "markdown",
      "metadata": {
        "id": "uPIzI7MlN8ci"
      },
      "source": [
        "This will aways be the product of the array's shape!"
      ]
    },
    {
      "cell_type": "markdown",
      "metadata": {
        "id": "jEL06Ho9Uf-Z"
      },
      "source": [
        "Now, let's apply what you've learned so far!"
      ]
    },
    {
      "cell_type": "code",
      "metadata": {
        "id": "3MfHEUumTTn1",
        "outputId": "abbe93d1-cd7e-472c-c487-8352f2613e77",
        "colab": {
          "base_uri": "https://localhost:8080/"
        }
      },
      "source": [
        "# TODO - Create an array with shape (5, 2) with values 0\n",
        "m = np.zeros((5,2))\n",
        "print(m)\n",
        "\n",
        "# TODO - Verify this array has dimension 2\n",
        "print(m.ndim)\n",
        "\n",
        "# TODO - Assert this array has 10 elements (size = 10)\n",
        "assert m.size == 10\n",
        "print(m.size)\n",
        "\n",
        "# TODO - Create an array with 3 dimensions (any shape), full of value 16\n",
        "print(np.full((1,2,3),16))\n",
        "\n",
        "# TODO - Create an array of odd numbers between 1 and 19\n",
        "print(np.arange(1,20,2))"
      ],
      "execution_count": 26,
      "outputs": [
        {
          "output_type": "stream",
          "name": "stdout",
          "text": [
            "[[0. 0.]\n",
            " [0. 0.]\n",
            " [0. 0.]\n",
            " [0. 0.]\n",
            " [0. 0.]]\n",
            "2\n",
            "10\n",
            "[[[16 16 16]\n",
            "  [16 16 16]]]\n",
            "[ 1  3  5  7  9 11 13 15 17 19]\n"
          ]
        }
      ]
    },
    {
      "cell_type": "code",
      "metadata": {
        "id": "3ial4Y65T_yD",
        "outputId": "80d15546-095b-4d07-9f42-1285a4be0744",
        "colab": {
          "base_uri": "https://localhost:8080/"
        }
      },
      "source": [
        "#@title\n",
        "# TODO - Create an array with shape (5, 2) with values 0\n",
        "arr = np.zeros((5, 2))\n",
        "print(arr)\n",
        "\n",
        "# TODO - Verify this array has dimension 2\n",
        "print(arr.ndim)\n",
        "\n",
        "# TODO - Assert this array has 10 elements (size = 10)\n",
        "assert arr.size == 10\n",
        "\n",
        "# TODO - Create an array with 3 dimensions (any shape), full of value 16\n",
        "print(np.full((2, 3, 4), 16))\n",
        "\n",
        "# TODO - Create an array of odd numbers between 1 and 19\n",
        "arr = np.arange(1, 20, 2)\n",
        "print(arr)"
      ],
      "execution_count": 23,
      "outputs": [
        {
          "output_type": "stream",
          "name": "stdout",
          "text": [
            "[[0. 0.]\n",
            " [0. 0.]\n",
            " [0. 0.]\n",
            " [0. 0.]\n",
            " [0. 0.]]\n",
            "2\n",
            "[[[16 16 16 16]\n",
            "  [16 16 16 16]\n",
            "  [16 16 16 16]]\n",
            "\n",
            " [[16 16 16 16]\n",
            "  [16 16 16 16]\n",
            "  [16 16 16 16]]]\n",
            "[ 1  3  5  7  9 11 13 15 17 19]\n"
          ]
        }
      ]
    },
    {
      "cell_type": "markdown",
      "metadata": {
        "id": "BCPOIiUGJAp-"
      },
      "source": [
        "## Reshaping\n"
      ]
    },
    {
      "cell_type": "markdown",
      "metadata": {
        "id": "LA0g3TlYYlaj"
      },
      "source": [
        "While working or operating over arrays, its often necessary to modify its shape and dimensions.\n",
        "\n",
        "NumPy comes with a bunch of methods to makes this easy!"
      ]
    },
    {
      "cell_type": "markdown",
      "metadata": {
        "id": "EIP1XYyE6Eu1"
      },
      "source": [
        "`flatten` : Flattens an n-dimensional array to 1 dimension"
      ]
    },
    {
      "cell_type": "code",
      "metadata": {
        "id": "FjcIqgms6MvA"
      },
      "source": [
        "m.flatten()"
      ],
      "execution_count": null,
      "outputs": []
    },
    {
      "cell_type": "markdown",
      "metadata": {
        "id": "YX6pZwHp2n56"
      },
      "source": [
        "`np.expand_dims`: A function which adds a dimension at a given axis `np.expand_dims(arr, axis)`"
      ]
    },
    {
      "cell_type": "code",
      "metadata": {
        "id": "VbYGBB5f3Cke"
      },
      "source": [
        "print(m)\n",
        "print(m.shape)"
      ],
      "execution_count": null,
      "outputs": []
    },
    {
      "cell_type": "code",
      "metadata": {
        "id": "SdStzMPQ3Jdm"
      },
      "source": [
        "arr = np.expand_dims(m, 0) # Add a dimension to beginning of the array (axis 0)\n",
        "print(arr)\n",
        "print(arr.shape)"
      ],
      "execution_count": null,
      "outputs": []
    },
    {
      "cell_type": "markdown",
      "metadata": {
        "id": "Gg2OgXDY3cv6"
      },
      "source": [
        "Notice the extra set of brackets which has appeared on the outside of the array!\n",
        "\n",
        "This might seem useless, but many networks might expect a shape *(1, n, m, 1)*, whereas all your data is *(n, m)*, so you'll need to use `np.expand_dims` twice!"
      ]
    },
    {
      "cell_type": "markdown",
      "metadata": {
        "id": "iFg5vhLwoWfW"
      },
      "source": [
        "Note: A common mistake is confusing a 2-d array with a dimension of shape 1 with a 1-d array. \n",
        "\n",
        "In other words, an array of shape (2,1) is not the same as one of shape (2,).\n",
        "\n",
        "Try to keep this in mind if you find yourself with some dimensionality errors."
      ]
    },
    {
      "cell_type": "code",
      "metadata": {
        "id": "clHN11ka339e"
      },
      "source": [
        "arr = np.expand_dims(np.expand_dims(m, 0), -1) # Expand the first and last dim\n",
        "print(arr.shape)"
      ],
      "execution_count": null,
      "outputs": []
    },
    {
      "cell_type": "markdown",
      "metadata": {
        "id": "MQfw0TO59DjC"
      },
      "source": [
        "`np.reshape`: Reshapes the array to a new shape\n",
        "\n",
        "*Note: The reshape must have the same number of elements*"
      ]
    },
    {
      "cell_type": "code",
      "metadata": {
        "id": "S4Ikoao79ET5"
      },
      "source": [
        "arr = np.array([[0, 1, 2, 3, 4], [5, 6, 7, 8, 9]])\n",
        "arr.shape"
      ],
      "execution_count": null,
      "outputs": []
    },
    {
      "cell_type": "code",
      "metadata": {
        "id": "4SdhZKin9QSi",
        "outputId": "b5471c6c-231a-4358-aaf4-89ddc94050f3",
        "colab": {
          "base_uri": "https://localhost:8080/"
        }
      },
      "source": [
        "reshaped = np.reshape(arr, (5, 2))\n",
        "reshaped.shape"
      ],
      "execution_count": 28,
      "outputs": [
        {
          "output_type": "execute_result",
          "data": {
            "text/plain": [
              "(5, 2)"
            ]
          },
          "metadata": {},
          "execution_count": 28
        }
      ]
    },
    {
      "cell_type": "markdown",
      "metadata": {
        "id": "vFHHvSsd9658"
      },
      "source": [
        "`np.transpose`: Returns the transpose matrix of an array\n",
        "\n",
        "*Note: This is equivalent to the short-hand* `arr.T`"
      ]
    },
    {
      "cell_type": "code",
      "metadata": {
        "id": "9okcAjF597ea"
      },
      "source": [
        "print(arr.shape)\n",
        "print(np.transpose(arr).shape)\n",
        "print(arr.T.shape)"
      ],
      "execution_count": null,
      "outputs": []
    },
    {
      "cell_type": "markdown",
      "metadata": {
        "id": "m-Dc-f0KPROy"
      },
      "source": [
        "Create a matrix (2 rows by 5 columns) of integers in range of 1 to 10"
      ]
    },
    {
      "cell_type": "code",
      "metadata": {
        "id": "lNPyjwvz14-G",
        "outputId": "39f611e5-59c7-4992-8a7a-ef1dcbe97fbd",
        "colab": {
          "base_uri": "https://localhost:8080/"
        }
      },
      "source": [
        "# TODO - Create a 2 rows x 5 columns matrix of integers in range of 1 to 10\n",
        "print(np.arange(1,11).reshape(2,5))\n",
        "\n",
        "# TODO - Add a dimension to the end of the array from the previous TODO\n",
        "print(np.expand_dims(np.arange(1,11).reshape(2,5),-1))"
      ],
      "execution_count": 35,
      "outputs": [
        {
          "output_type": "stream",
          "name": "stdout",
          "text": [
            "[[ 1  2  3  4  5]\n",
            " [ 6  7  8  9 10]]\n",
            "[[[ 1]\n",
            "  [ 2]\n",
            "  [ 3]\n",
            "  [ 4]\n",
            "  [ 5]]\n",
            "\n",
            " [[ 6]\n",
            "  [ 7]\n",
            "  [ 8]\n",
            "  [ 9]\n",
            "  [10]]]\n"
          ]
        }
      ]
    },
    {
      "cell_type": "code",
      "metadata": {
        "id": "EyTEEfveQwsz",
        "outputId": "510f05a0-1010-4481-ad50-f261e3eff701",
        "colab": {
          "base_uri": "https://localhost:8080/"
        }
      },
      "source": [
        "#@title\n",
        "# TODO - Create a 2 rows x 5 columns matrix of integers in range of 1 to 10\n",
        "# First, create the integers 1 to 10 using np.arange\n",
        "arr = np.arange(1, 11)\n",
        "\n",
        "# Rearrange the array dimensions\n",
        "# Note that we have 10 elements, and 2*5 = 10!\n",
        "arr = arr.reshape(2, 5)\n",
        "print(arr)\n",
        "\n",
        "\n",
        "# TODO - Add a dimension to the end of the array from the previous TODO\n",
        "print(np.expand_dims(arr, -1))\n",
        "\n",
        "# Note: This is the same as np.expand_dims(arr, 2)\n",
        "assert np.array_equal(np.expand_dims(arr, -1), np.expand_dims(arr, 2))"
      ],
      "execution_count": 30,
      "outputs": [
        {
          "output_type": "stream",
          "name": "stdout",
          "text": [
            "[[ 1  2  3  4  5]\n",
            " [ 6  7  8  9 10]]\n",
            "[[[ 1]\n",
            "  [ 2]\n",
            "  [ 3]\n",
            "  [ 4]\n",
            "  [ 5]]\n",
            "\n",
            " [[ 6]\n",
            "  [ 7]\n",
            "  [ 8]\n",
            "  [ 9]\n",
            "  [10]]]\n"
          ]
        }
      ]
    },
    {
      "cell_type": "markdown",
      "metadata": {
        "id": "kXmUml7dOlUU"
      },
      "source": [
        "## Datatypes"
      ]
    },
    {
      "cell_type": "markdown",
      "metadata": {
        "id": "AWDao-XkOn9X"
      },
      "source": [
        "NumPy arrays can be arrays of integers, floats, or even strings! In fact, they have subtypes within these!\n",
        "\n",
        "- `np.int_` - Equivalent to Python's int, in fact you can just pass in `int` in its place\n",
        "- `np.uint8` - Can represent 0 through 255, making it *the* datatype to represent images! Note: It can't represent negatives (that's what unsigned means)\n",
        "- `np.float16` - Float using 16 bits\n",
        "- `np.float32` - Float using 32 bits – more bits = more precise, but takes twice the memory of `np.float16`\n",
        "\n",
        "You can view a full list here: https://numpy.org/doc/stable/user/basics.types.html"
      ]
    },
    {
      "cell_type": "markdown",
      "metadata": {
        "id": "rqSKLIwaQQ3o"
      },
      "source": [
        "NumPy will automatically detect which datatype to use during initialization\n",
        "\n",
        "The `dtype` attribute can be used to check an array's datatype"
      ]
    },
    {
      "cell_type": "code",
      "metadata": {
        "id": "ZKNtkvrLP-FI"
      },
      "source": [
        "int_arr = np.array([-1, 2, 3])\n",
        "int_arr.dtype"
      ],
      "execution_count": null,
      "outputs": []
    },
    {
      "cell_type": "code",
      "metadata": {
        "id": "CRNOq_sFQiW2"
      },
      "source": [
        "float_arr = np.array([1.2, 2.6, 3.9])\n",
        "float_arr.dtype"
      ],
      "execution_count": null,
      "outputs": []
    },
    {
      "cell_type": "markdown",
      "metadata": {
        "id": "B_OapB62QXst"
      },
      "source": [
        "Sometimes though, it's good to be more specific! So, you can specify your own datatypes!"
      ]
    },
    {
      "cell_type": "code",
      "metadata": {
        "id": "MTFI_YPcQ3AI"
      },
      "source": [
        "uint_arr = np.array([1, 5, 10], dtype=np.uint8)\n",
        "uint_arr"
      ],
      "execution_count": null,
      "outputs": []
    },
    {
      "cell_type": "markdown",
      "metadata": {
        "id": "rIseL-EsRC_5"
      },
      "source": [
        "Use the `astype` function to change an array's datatype"
      ]
    },
    {
      "cell_type": "code",
      "metadata": {
        "id": "O4Kw4CDQRewO"
      },
      "source": [
        "converted_arr = int_arr.astype(np.uint8)\n",
        "converted_arr"
      ],
      "execution_count": null,
      "outputs": []
    },
    {
      "cell_type": "markdown",
      "metadata": {
        "id": "OJYvCYr_P_7v"
      },
      "source": [
        "**Careful! Converting to and from different datatypes can change (and mess up) your data!**"
      ]
    },
    {
      "cell_type": "code",
      "metadata": {
        "id": "Qj43g5uGQKnf"
      },
      "source": [
        "print(float_arr)\n",
        "print(float_arr.astype(int))"
      ],
      "execution_count": null,
      "outputs": []
    },
    {
      "cell_type": "markdown",
      "metadata": {
        "id": "IlIYCQ1-SFPy"
      },
      "source": [
        "Floats are rounded down when converting to integers!"
      ]
    },
    {
      "cell_type": "code",
      "metadata": {
        "id": "9IF0Uaw3R4kX"
      },
      "source": [
        "print(int_arr)\n",
        "print(int_arr.astype(np.uint8))"
      ],
      "execution_count": null,
      "outputs": []
    },
    {
      "cell_type": "markdown",
      "metadata": {
        "id": "B24mgSZvSObd"
      },
      "source": [
        "Values may 'wrap-around' when converting between integers and unsigned integers!"
      ]
    },
    {
      "cell_type": "markdown",
      "metadata": {
        "id": "jvkjQpBvSbyL"
      },
      "source": [
        "There are many more examples like this, but the bottom line is that you need to treat datatypes with respect.\n",
        "\n",
        "They affect the\n",
        "- Memory required: Bits it takes to represent a datatype\n",
        "- Performance: The precision of a given datatype (specifically floats) is crucial in ML models\n",
        "- Functionality: The wrong type/conversion can mess up the whole dataset"
      ]
    },
    {
      "cell_type": "markdown",
      "metadata": {
        "id": "1jG80kMcCnaH"
      },
      "source": [
        "## Arithmetic"
      ]
    },
    {
      "cell_type": "markdown",
      "metadata": {
        "id": "1qfAtVv7CrEc"
      },
      "source": [
        "Numpy arrays also can be operated with basic arithmetic"
      ]
    },
    {
      "cell_type": "code",
      "metadata": {
        "id": "sffTloXuGpIW",
        "outputId": "80687935-967a-45fe-aaa2-b3d69a345081",
        "colab": {
          "base_uri": "https://localhost:8080/"
        }
      },
      "source": [
        "x = np.array([0, 1, 2])\n",
        "y = np.array([9, 8, 7])\n",
        "\n",
        "print('x + y = ', x + y)\n",
        "print('x - y = ', x - y)\n",
        "print('x * y = ', x * y)\n",
        "print('x / y = ', x / y)"
      ],
      "execution_count": 6,
      "outputs": [
        {
          "output_type": "stream",
          "name": "stdout",
          "text": [
            "x + y =  [9 9 9]\n",
            "x - y =  [-9 -7 -5]\n",
            "x * y =  [ 0  8 14]\n",
            "x / y =  [0.         0.125      0.28571429]\n"
          ]
        }
      ]
    },
    {
      "cell_type": "markdown",
      "metadata": {
        "id": "pll8CKz5LMda"
      },
      "source": [
        "We can also get the max, min, their index and the sum of the values.\n",
        "\n",
        "We can also pass an axis argument to operate in a particular axis."
      ]
    },
    {
      "cell_type": "code",
      "metadata": {
        "id": "dzLNWGWdL07N",
        "outputId": "cac8d6fb-248c-4e5e-d595-7ed0f61d456b",
        "colab": {
          "base_uri": "https://localhost:8080/"
        }
      },
      "source": [
        "a = np.array([[1, 2, 3, 4], [9, 8, 0, 3]])\n",
        "\n",
        "print('max : \\t\\t\\t', np.max(a))\n",
        "print('max axis 0 : \\t\\t', np.max(a, axis = 0))\n",
        "print('min : \\t\\t\\t', np.min(a))\n",
        "print('min axis 1 : \\t\\t', np.min(a, axis = 1))\n",
        "print('arg max : \\t\\t', np.argmax(a))\n",
        "print('arg max axis 0: \\t', np.argmax(a, axis = 0))\n",
        "print('arg min : \\t\\t', np.argmin(a))\n",
        "print('arg min axis 1 : \\t', np.argmin(a, axis = 1))\n",
        "print('sum : \\t\\t\\t', np.sum(a))\n",
        "print('sum axis 0 : \\t\\t', np.sum(a, axis = 0))"
      ],
      "execution_count": 7,
      "outputs": [
        {
          "output_type": "stream",
          "name": "stdout",
          "text": [
            "max : \t\t\t 9\n",
            "max axis 0 : \t\t [9 8 3 4]\n",
            "min : \t\t\t 0\n",
            "min axis 1 : \t\t [1 0]\n",
            "arg max : \t\t 4\n",
            "arg max axis 0: \t [1 1 0 0]\n",
            "arg min : \t\t 6\n",
            "arg min axis 1 : \t [0 2]\n",
            "sum : \t\t\t 30\n",
            "sum axis 0 : \t\t [10 10  3  7]\n"
          ]
        }
      ]
    },
    {
      "cell_type": "code",
      "metadata": {
        "id": "Zq_z85-CADQB"
      },
      "source": [
        "arr = np.array([[1, 5, 4, 3, 2], [4, 2, 1, 5, 3]])\n",
        "\n",
        "# TODO - Define sum_arr using sum such that you get the asserted values\n",
        "sum_arr = arr.sum(axis=1)\n",
        "assert np.array_equal(sum_arr, np.array([15, 15]))\n",
        "\n",
        "# TODO - Define max_arr using max such that you get the asserted values\n",
        "max_arr = arr.max(axis=0)\n",
        "assert np.array_equal(max_arr, np.array([4, 5, 4, 5, 3]))\n",
        "\n",
        "# TODO - Define max_ind_arr using argmax such that you get the asserted values\n",
        "max_ind_arr = arr.argmax(axis=1)\n",
        "assert np.array_equal(max_ind_arr, np.array([1, 3]))"
      ],
      "execution_count": 10,
      "outputs": []
    },
    {
      "cell_type": "code",
      "metadata": {
        "id": "UX-GVevtB5Bq",
        "outputId": "d1123e27-3435-4d0f-db87-216c6a3cf73f",
        "colab": {
          "base_uri": "https://localhost:8080/"
        }
      },
      "source": [
        "#@title\n",
        "arr = np.array([[1, 5, 4, 3, 2], [4, 2, 1, 5, 3]])\n",
        "\n",
        "# TODO - Define sum_arr using sum such that you get the asserted values\n",
        "sum_arr = arr.sum(axis=1)\n",
        "print(sum_arr)\n",
        "assert np.array_equal(sum_arr, np.array([15, 15]))\n",
        "\n",
        "# TODO - Define max_arr using max such that you get the asserted values\n",
        "max_arr = arr.max(axis=0)\n",
        "print(max_arr)\n",
        "assert np.array_equal(max_arr, np.array([4, 5, 4, 5, 3]))\n",
        "\n",
        "# TODO - Define max_ind_arr using argmax such that you get the asserted values\n",
        "max_ind_arr = arr.argmax(axis=1)\n",
        "print(max_ind_arr)\n",
        "assert np.array_equal(max_ind_arr, np.array([1, 3]))"
      ],
      "execution_count": 4,
      "outputs": [
        {
          "output_type": "stream",
          "name": "stdout",
          "text": [
            "[15 15]\n",
            "[4 5 4 5 3]\n",
            "[1 3]\n"
          ]
        }
      ]
    },
    {
      "cell_type": "markdown",
      "metadata": {
        "id": "ZwK0hVXwq6LH"
      },
      "source": [
        "## Broadcasting"
      ]
    },
    {
      "cell_type": "markdown",
      "metadata": {
        "id": "yLp6WwNtLIt7"
      },
      "source": [
        "What happens if we want to operate arrays of different sizes or an array with a scalar (where a scalar is a single value)\n",
        "\n",
        "Luckily for us, NumPy arrays support broadcasting!\n",
        "\n",
        "To apply broadcasting over arrays, it is necesary to follow one of two rules:\n",
        "\n",
        "1. Two dimensions of the arrays are equal\n",
        "2. One of the dimensions is 1\n",
        "\n",
        "*Note: Arrays don't need to have the same number of dimensions.*"
      ]
    },
    {
      "cell_type": "markdown",
      "metadata": {
        "id": "ZbededqPIL60"
      },
      "source": [
        "Broadcasting using an array and a scalar:"
      ]
    },
    {
      "cell_type": "code",
      "metadata": {
        "id": "FJ-yN4t1aBx7",
        "outputId": "82023cd2-f76b-46cd-eebc-15c2cf030dc9",
        "colab": {
          "base_uri": "https://localhost:8080/"
        }
      },
      "source": [
        "arr = np.ones((3,2))\n",
        "arr * 5"
      ],
      "execution_count": 11,
      "outputs": [
        {
          "output_type": "execute_result",
          "data": {
            "text/plain": [
              "array([[5., 5.],\n",
              "       [5., 5.],\n",
              "       [5., 5.]])"
            ]
          },
          "metadata": {},
          "execution_count": 11
        }
      ]
    },
    {
      "cell_type": "code",
      "metadata": {
        "id": "5cbBXICIIdBW",
        "outputId": "04c17311-ead7-4410-bec5-e2a4820463e0",
        "colab": {
          "base_uri": "https://localhost:8080/"
        }
      },
      "source": [
        "arr = np.array([3, 5, 7, 5, 2, 7, 9])\n",
        "min = arr.min() # Just a scalar\n",
        "max = arr.max() # Just a scalar\n",
        "\n",
        "(arr - min)/(max - min)"
      ],
      "execution_count": 12,
      "outputs": [
        {
          "output_type": "execute_result",
          "data": {
            "text/plain": [
              "array([0.14285714, 0.42857143, 0.71428571, 0.42857143, 0.        ,\n",
              "       0.71428571, 1.        ])"
            ]
          },
          "metadata": {},
          "execution_count": 12
        }
      ]
    },
    {
      "cell_type": "markdown",
      "metadata": {
        "id": "rL156VI1Ivnd"
      },
      "source": [
        "What we've just done, using only scalar broadcasting, is 'normalized' the data between 0 and 1 using min-max normalization!\n",
        "\n",
        "This is a very useful and common pre-processing technique in machine learning!"
      ]
    },
    {
      "cell_type": "markdown",
      "metadata": {
        "id": "8-qAlL7CIWvK"
      },
      "source": [
        "Broadcasting using arrays:"
      ]
    },
    {
      "cell_type": "markdown",
      "metadata": {
        "id": "qKsbVAqYJSfU"
      },
      "source": [
        "Images are almost always represented as NumPy arrays! This is especially true when said images are being fed to an ML model.\n",
        "\n",
        "In a color image, there is a red, green, and blue channel, which yields 3 channels.\n",
        "\n",
        "\n",
        "Then, to create a color image of size (5, 5), we need 5x5 pixels, and 3 values per pixel! That requires an array of shape (5, 5, 3)!\n",
        "\n",
        "Let's try this with random pixel values!"
      ]
    },
    {
      "cell_type": "code",
      "metadata": {
        "id": "WKQYxGemJR0O",
        "outputId": "37c52171-746f-4046-8e5e-06047043c548",
        "colab": {
          "base_uri": "https://localhost:8080/"
        }
      },
      "source": [
        "img = np.random.random((5, 5, 3))\n",
        "img.shape"
      ],
      "execution_count": 14,
      "outputs": [
        {
          "output_type": "execute_result",
          "data": {
            "text/plain": [
              "(5, 5, 3)"
            ]
          },
          "metadata": {},
          "execution_count": 14
        }
      ]
    },
    {
      "cell_type": "markdown",
      "metadata": {
        "id": "cAKtZApNKx76"
      },
      "source": [
        "Remember `np.random.random` creates an array of random floats between [0,1]\n",
        "\n",
        "But in images, the values go from 0 to 255, so we'll use scalar broadcasting again!\n",
        "\n",
        "We'll also need to change the data type from float to `np.uint8`, which is the perfect datatype for images!"
      ]
    },
    {
      "cell_type": "code",
      "metadata": {
        "id": "xw8JFxb2LN6b",
        "outputId": "a5ec615a-6645-4dc0-a02c-acf5929f2eee",
        "colab": {
          "base_uri": "https://localhost:8080/"
        }
      },
      "source": [
        "print(\"Min\", img.min())\n",
        "print(\"Max\", img.max())"
      ],
      "execution_count": 15,
      "outputs": [
        {
          "output_type": "stream",
          "name": "stdout",
          "text": [
            "Min 0.005179025225113931\n",
            "Max 0.9928815080349351\n"
          ]
        }
      ]
    },
    {
      "cell_type": "code",
      "metadata": {
        "id": "I9TN-3ZmKwY-"
      },
      "source": [
        "img = (img * 255).astype(np.uint8)"
      ],
      "execution_count": 16,
      "outputs": []
    },
    {
      "cell_type": "code",
      "metadata": {
        "id": "lNcuBaYOLWdm",
        "outputId": "a2247056-c282-496b-fe21-3da3be855cfd",
        "colab": {
          "base_uri": "https://localhost:8080/"
        }
      },
      "source": [
        "print(\"Min\", img.min())\n",
        "print(\"Max\", img.max())"
      ],
      "execution_count": 17,
      "outputs": [
        {
          "output_type": "stream",
          "name": "stdout",
          "text": [
            "Min 1\n",
            "Max 253\n"
          ]
        }
      ]
    },
    {
      "cell_type": "code",
      "metadata": {
        "id": "GWMxV-CrLzMy",
        "outputId": "315079e1-3445-4f38-c432-5b077611bb0c",
        "colab": {
          "base_uri": "https://localhost:8080/",
          "height": 317
        }
      },
      "source": [
        "# Don't worry about the code here, what's important is looking at the image!\n",
        "import cv2\n",
        "from google.colab.patches import cv2_imshow\n",
        "cv2_imshow(cv2.resize(img, (300, 300), interpolation = cv2.INTER_NEAREST))"
      ],
      "execution_count": 18,
      "outputs": [
        {
          "output_type": "display_data",
          "data": {
            "image/png": "[encoded data removed]",
            "text/plain": [
              "<PIL.Image.Image image mode=RGB size=300x300 at 0x7FC9C5FD0210>"
            ]
          },
          "metadata": {}
        }
      ]
    },
    {
      "cell_type": "markdown",
      "metadata": {
        "id": "Z5V89MzLLaq2"
      },
      "source": [
        "Remember: The 3 channels, RGB, are represented by the last dimension\n",
        "\n",
        "Finally, we're ready for a practical example of broadcasting using arrays!"
      ]
    },
    {
      "cell_type": "code",
      "metadata": {
        "id": "r14sydsKaRpb"
      },
      "source": [
        "# Lets make a mask to only get the blue colors\n",
        "# Note that with cv2, they have blue first, green second, red third\n",
        "mask = np.array([1, 0, 0])\n",
        "\n",
        "# Broadcasting over the axis with dimension 3 (i.e., color dimension)\n",
        "img_blue = img * mask "
      ],
      "execution_count": 19,
      "outputs": []
    },
    {
      "cell_type": "code",
      "metadata": {
        "id": "tzWSlIBBNcXT",
        "outputId": "9b2b645f-8f31-4982-8295-3b9dd4f1d1f7",
        "colab": {
          "base_uri": "https://localhost:8080/",
          "height": 317
        }
      },
      "source": [
        "cv2_imshow(cv2.resize(img_blue, (300, 300), interpolation = cv2.INTER_NEAREST))"
      ],
      "execution_count": 20,
      "outputs": [
        {
          "output_type": "display_data",
          "data": {
            "image/png": "[encoded data removed]",
            "text/plain": [
              "<PIL.Image.Image image mode=RGB size=300x300 at 0x7FC9B62D0710>"
            ]
          },
          "metadata": {}
        }
      ]
    },
    {
      "cell_type": "markdown",
      "metadata": {
        "id": "f7qmXpcsNuYb"
      },
      "source": [
        "And look at that! We now only see the blue from the original image."
      ]
    },
    {
      "cell_type": "code",
      "metadata": {
        "id": "dVYctsMAOQ6s",
        "outputId": "281ce053-7685-4dca-8981-ee9dfee258f0",
        "colab": {
          "base_uri": "https://localhost:8080/",
          "height": 317
        }
      },
      "source": [
        "# TODO - Show only the green channel!\n",
        "img_green = img * np.array([0, 1, 0])\n",
        "\n",
        "cv2_imshow(cv2.resize(img_green, (300, 300), interpolation = cv2.INTER_NEAREST))"
      ],
      "execution_count": 24,
      "outputs": [
        {
          "output_type": "display_data",
          "data": {
            "image/png": "[encoded data removed]",
            "text/plain": [
              "<PIL.Image.Image image mode=RGB size=300x300 at 0x7FC9B62DF950>"
            ]
          },
          "metadata": {}
        }
      ]
    },
    {
      "cell_type": "code",
      "metadata": {
        "id": "-XD8fljaOa-4"
      },
      "source": [
        "#@title\n",
        "# TODO - Show only the green channel!\n",
        "img_green = img * np.array([0, 1, 0])\n",
        "\n",
        "cv2_imshow(cv2.resize(img_green, (300, 300), interpolation = cv2.INTER_NEAREST))"
      ],
      "execution_count": null,
      "outputs": []
    },
    {
      "cell_type": "markdown",
      "metadata": {
        "id": "c-FanxEtrUEp"
      },
      "source": [
        "## Slicing & Indexing"
      ]
    },
    {
      "cell_type": "markdown",
      "metadata": {
        "id": "G1OEQsnPOumS"
      },
      "source": [
        "Indexing is when you specify certain indices of an array to create another array. Slicing is generally defined as getting just some subset of the array.\n",
        "\n",
        "This could involve using indexing to get only a single element, or slicing to keep only certain dimensions/sections!"
      ]
    },
    {
      "cell_type": "code",
      "metadata": {
        "id": "6Yya2LVuQ8kj"
      },
      "source": [
        "arr = np.array([[1, 2],\n",
        "                [3, 4]])"
      ],
      "execution_count": 26,
      "outputs": []
    },
    {
      "cell_type": "markdown",
      "metadata": {
        "id": "SFgVm6csQ4FT"
      },
      "source": [
        "Indexing to get a single element"
      ]
    },
    {
      "cell_type": "code",
      "metadata": {
        "id": "n_2iNfQdQ9bF",
        "outputId": "9744973a-9f98-4bca-9acc-871cbe06709b",
        "colab": {
          "base_uri": "https://localhost:8080/"
        }
      },
      "source": [
        "# Get the element in the first row, second column\n",
        "arr[0, 1]"
      ],
      "execution_count": 27,
      "outputs": [
        {
          "output_type": "execute_result",
          "data": {
            "text/plain": [
              "2"
            ]
          },
          "metadata": {},
          "execution_count": 27
        }
      ]
    },
    {
      "cell_type": "markdown",
      "metadata": {
        "id": "laS7-3x_RBLx"
      },
      "source": [
        "Indexing, or slicing, based on axis"
      ]
    },
    {
      "cell_type": "code",
      "metadata": {
        "id": "qWO8GzHqRWBp",
        "outputId": "f63aa53c-ae4c-4147-f0b6-8f7031cde205",
        "colab": {
          "base_uri": "https://localhost:8080/"
        }
      },
      "source": [
        "# Get the second column\n",
        "print(arr[:, 1])"
      ],
      "execution_count": 28,
      "outputs": [
        {
          "output_type": "stream",
          "name": "stdout",
          "text": [
            "[2 4]\n"
          ]
        }
      ]
    },
    {
      "cell_type": "markdown",
      "metadata": {
        "id": "DslReUdIPlGE"
      },
      "source": [
        "The `arr[:, 1]` means that you take all elements from the first dimension, but only those in the first index for the second dimension\n",
        "\n"
      ]
    },
    {
      "cell_type": "code",
      "metadata": {
        "id": "leMOP-JtRNnM",
        "outputId": "3b5da3bf-1336-4043-a7a6-4d7fa6fd46e5",
        "colab": {
          "base_uri": "https://localhost:8080/"
        }
      },
      "source": [
        "# Get the first row\n",
        "arr[0]"
      ],
      "execution_count": 29,
      "outputs": [
        {
          "output_type": "execute_result",
          "data": {
            "text/plain": [
              "array([1, 2])"
            ]
          },
          "metadata": {},
          "execution_count": 29
        }
      ]
    },
    {
      "cell_type": "markdown",
      "metadata": {
        "id": "I3cpPdGgRjgQ"
      },
      "source": [
        "Note that `arr[0]` is equivalent to `arr[0, :]`. So, because you aren't specifying what to slice for the second dimension, it assumes you want all of the elements!"
      ]
    },
    {
      "cell_type": "code",
      "metadata": {
        "id": "wVHQzmHOP_4w"
      },
      "source": [
        "assert np.array_equal(a[1], a[1, :])"
      ],
      "execution_count": 25,
      "outputs": []
    },
    {
      "cell_type": "markdown",
      "metadata": {
        "id": "Wmic9g8MR0Vu"
      },
      "source": [
        "Finally, you don't just have to take certain elements or dimensions, but can only take certain chunks!\n",
        "\n",
        "Let's go back to the image, and take just a chunk of pixels from it!"
      ]
    },
    {
      "cell_type": "code",
      "metadata": {
        "id": "uHLDlsScSHMd",
        "outputId": "5e1068d7-2f6f-4797-e88c-8e59fe127c60",
        "colab": {
          "base_uri": "https://localhost:8080/",
          "height": 334
        }
      },
      "source": [
        "cv2_imshow(cv2.resize(img, (300, 300), interpolation = cv2.INTER_NEAREST))\n",
        "img.shape"
      ],
      "execution_count": 30,
      "outputs": [
        {
          "output_type": "display_data",
          "data": {
            "image/png": "[encoded data removed]",
            "text/plain": [
              "<PIL.Image.Image image mode=RGB size=300x300 at 0x7FC9B62979D0>"
            ]
          },
          "metadata": {}
        },
        {
          "output_type": "execute_result",
          "data": {
            "text/plain": [
              "(5, 5, 3)"
            ]
          },
          "metadata": {},
          "execution_count": 30
        }
      ]
    },
    {
      "cell_type": "code",
      "metadata": {
        "id": "vy6wHtAPSeq5",
        "outputId": "c1713ce4-a872-4696-ed10-96f2a3166c32",
        "colab": {
          "base_uri": "https://localhost:8080/",
          "height": 334
        }
      },
      "source": [
        "img_crop = img[1:3, 2:4, :]\n",
        "cv2_imshow(cv2.resize(img_crop, (300, 300), interpolation = cv2.INTER_NEAREST))\n",
        "img.shape"
      ],
      "execution_count": 31,
      "outputs": [
        {
          "output_type": "display_data",
          "data": {
            "image/png": "[encoded data removed]",
            "text/plain": [
              "<PIL.Image.Image image mode=RGB size=300x300 at 0x7FC9B62DAC50>"
            ]
          },
          "metadata": {}
        },
        {
          "output_type": "execute_result",
          "data": {
            "text/plain": [
              "(5, 5, 3)"
            ]
          },
          "metadata": {},
          "execution_count": 31
        }
      ]
    },
    {
      "cell_type": "markdown",
      "metadata": {
        "id": "dqIHNSeTS54Y"
      },
      "source": [
        "We just used NumPy indexing to crop the image!"
      ]
    },
    {
      "cell_type": "markdown",
      "metadata": {
        "id": "N-a_79claNIN"
      },
      "source": [
        "## Axis"
      ]
    },
    {
      "cell_type": "markdown",
      "metadata": {
        "id": "s0Y5Mhrugf96"
      },
      "source": [
        "Most NumPy methods have an optional parameter called axis.\n",
        "\n",
        "This means that you can treat certain dimensions (axes) as special when applying something like a mean, or a sum."
      ]
    },
    {
      "cell_type": "code",
      "metadata": {
        "id": "Jutrpd3Mg4yM"
      },
      "source": [
        "arr = np.array([\n",
        "    [0, 2, 4, 6, 8, 10],\n",
        "    [1, 3, 5, 7, 9, 11]\n",
        "])"
      ],
      "execution_count": 32,
      "outputs": []
    },
    {
      "cell_type": "code",
      "metadata": {
        "id": "NCilBf-od3BM",
        "outputId": "a484f767-0a7c-47d7-b97d-e1b3e6841874",
        "colab": {
          "base_uri": "https://localhost:8080/"
        }
      },
      "source": [
        "print(arr.sum())\n",
        "print(arr.sum(axis=0))\n",
        "print(arr.sum(axis=1))"
      ],
      "execution_count": 33,
      "outputs": [
        {
          "output_type": "stream",
          "name": "stdout",
          "text": [
            "66\n",
            "[ 1  5  9 13 17 21]\n",
            "[30 36]\n"
          ]
        }
      ]
    },
    {
      "cell_type": "markdown",
      "metadata": {
        "id": "wMYyYcVVhwEL"
      },
      "source": [
        "## Linear Algebra"
      ]
    },
    {
      "cell_type": "markdown",
      "metadata": {
        "id": "EgSpW0JWhyx7"
      },
      "source": [
        "Most linear algebra operations on vectors and matrices can also be done with Numpy arrays"
      ]
    },
    {
      "cell_type": "code",
      "metadata": {
        "id": "trb5DDmuh8F_",
        "outputId": "6472b298-c689-4d5c-922f-b09412cbd56b",
        "colab": {
          "base_uri": "https://localhost:8080/"
        }
      },
      "source": [
        "# Matrix 3x4\n",
        "a = np.array([[1, 2, 3, 4], [5, 6, 7, 8], [9, 10, 11, 12]])\n",
        "\n",
        "# Matrix 4x2\n",
        "b = np.array([[1, 2], [3, 4], [5, 6], [7, 8]])\n",
        "\n",
        "# Matrix multiplication 3x4 @ 4x2 = 3x2\n",
        "c = np.matmul(a, b)\n",
        "c "
      ],
      "execution_count": 34,
      "outputs": [
        {
          "output_type": "execute_result",
          "data": {
            "text/plain": [
              "array([[ 50,  60],\n",
              "       [114, 140],\n",
              "       [178, 220]])"
            ]
          },
          "metadata": {},
          "execution_count": 34
        }
      ]
    },
    {
      "cell_type": "code",
      "metadata": {
        "id": "ByvqBPsQrkdZ",
        "outputId": "e77581c4-c768-48e5-fa64-019bdbe46282",
        "colab": {
          "base_uri": "https://localhost:8080/"
        }
      },
      "source": [
        "import numpy as np\n",
        "# Matrix 3x4\n",
        "w = np.array([[1, 2, 3, 4], [5, 6, 7, 8], [9, 10, 11, 12]])\n",
        "\n",
        "# Vector 4x1\n",
        "x = np.array([1, 2, 3, 4])\n",
        "\n",
        "# Vector 3x1\n",
        "b = np.array([4, 5, 6])\n",
        "\n",
        "# @ can also be used to multiply matrices\n",
        "z = w @ x + b # 3x4 @ 4x1 + 3x1 \n",
        "z"
      ],
      "execution_count": 35,
      "outputs": [
        {
          "output_type": "execute_result",
          "data": {
            "text/plain": [
              "array([ 34,  75, 116])"
            ]
          },
          "metadata": {},
          "execution_count": 35
        }
      ]
    },
    {
      "cell_type": "markdown",
      "metadata": {
        "id": "oYNkgvdOrwAC"
      },
      "source": [
        "## Vectorization"
      ]
    },
    {
      "cell_type": "markdown",
      "metadata": {
        "id": "HL9WTeUaht1i"
      },
      "source": [
        "Numpy operations are extremly efficient, allowing to obtain optimal speeds even when Python is an interpreted language.\n",
        "\n",
        "With such efficient speeds, it is posible to optimize the overall code running time if you can identify when it is possible to apply vectorization and broadcasting.\n",
        "\n",
        "Put simply, vectorization consists of replacing iterations with a vector, array operation, or broadcasting.\n",
        "\n",
        "\n",
        "In general, always try to consider if a for loop can be vectorized instead.  This will become  important later when working with deep learning models ;)\n",
        "\n",
        "Let's see how much time we can save by vectorizing some operations:"
      ]
    },
    {
      "cell_type": "code",
      "metadata": {
        "id": "c2IvtNxi20eS",
        "outputId": "170ff708-3480-40c1-be53-9be1b9704d12",
        "colab": {
          "base_uri": "https://localhost:8080/"
        }
      },
      "source": [
        "# A function with a for loop\n",
        "def slow_operation(n=1000):\n",
        "    arr = np.arange(n)\n",
        "    diff = np.zeros(n-1)\n",
        "    \n",
        "    for i in range(1, n):\n",
        "        diff[i-1] = np.sqrt(arr[i]**2 - arr[i-1]**2)\n",
        "    \n",
        "    return sum(diff)/n\n",
        "    \n",
        "slow_operation()"
      ],
      "execution_count": 36,
      "outputs": [
        {
          "output_type": "execute_result",
          "data": {
            "text/plain": [
              "29.769614699783833"
            ]
          },
          "metadata": {},
          "execution_count": 36
        }
      ]
    },
    {
      "cell_type": "markdown",
      "metadata": {
        "id": "gdlIYNh356TM"
      },
      "source": [
        "Let's time it"
      ]
    },
    {
      "cell_type": "code",
      "metadata": {
        "id": "Dspt5yoy58Rd",
        "outputId": "1992aaa8-e06d-47ac-f604-04d41dfb9130",
        "colab": {
          "base_uri": "https://localhost:8080/"
        }
      },
      "source": [
        "%timeit slow_operation()"
      ],
      "execution_count": 43,
      "outputs": [
        {
          "output_type": "stream",
          "name": "stdout",
          "text": [
            "100 loops, best of 5: 2.94 ms per loop\n"
          ]
        }
      ]
    },
    {
      "cell_type": "code",
      "metadata": {
        "id": "c6L4vWBT51us",
        "outputId": "7870303c-6f9d-45fc-f3c2-8a521de05b7e",
        "colab": {
          "base_uri": "https://localhost:8080/"
        }
      },
      "source": [
        "# The same operation vectorized\n",
        "def fast_operation(n=1000):\n",
        "    arr = np.arange(n)\n",
        "    diff = np.sqrt(arr[1:]**2 - arr[:-1]**2)\n",
        "    \n",
        "    return sum(diff)/n\n",
        "    \n",
        "fast_operation()"
      ],
      "execution_count": 41,
      "outputs": [
        {
          "output_type": "execute_result",
          "data": {
            "text/plain": [
              "29.769614699783833"
            ]
          },
          "metadata": {},
          "execution_count": 41
        }
      ]
    },
    {
      "cell_type": "markdown",
      "metadata": {
        "id": "H7jYzqpH6YUA"
      },
      "source": [
        "Let's time it"
      ]
    },
    {
      "cell_type": "code",
      "metadata": {
        "id": "7D2FyEfQ6aA-",
        "outputId": "86a8fa58-45e4-49bf-c0da-5a5937a7bbee",
        "colab": {
          "base_uri": "https://localhost:8080/"
        }
      },
      "source": [
        "%timeit fast_operation()"
      ],
      "execution_count": 44,
      "outputs": [
        {
          "output_type": "stream",
          "name": "stdout",
          "text": [
            "1000 loops, best of 5: 175 µs per loop\n"
          ]
        }
      ]
    },
    {
      "cell_type": "markdown",
      "metadata": {
        "id": "muN9Y7Vg6f34"
      },
      "source": [
        "Its not even close! "
      ]
    },
    {
      "cell_type": "markdown",
      "metadata": {
        "id": "dJYhSFau7qX7"
      },
      "source": [
        "Even if this diference seems small, when working with large datasets this small optimizations can save you from hours to days of running time."
      ]
    },
    {
      "cell_type": "markdown",
      "metadata": {
        "id": "YVF7Sub-r21R"
      },
      "source": [
        "## Data Normalization"
      ]
    },
    {
      "cell_type": "markdown",
      "metadata": {
        "id": "jbiPFmAP6XQ2"
      },
      "source": [
        "While working with data in the real-world, we may need to deal with some very large numbers. For example, house prices worth hundreds of thousands of dollars. For many numerical reasons, machine learning models such as neural networks don't do well with this large data.\n",
        "\n",
        "How can we fix this? Normalization, or normalizing the data! Normalization will change the feature (data) values, however the relationship between values will still exist, which is all we need!"
      ]
    },
    {
      "cell_type": "markdown",
      "metadata": {
        "id": "R21BQx0_X9RX"
      },
      "source": [
        "Some popular data normalization techniques:\n",
        "\n",
        "Min-max Normalization: Linearly squash the values between 0 and 1.\n",
        "\n",
        "\n",
        "Standardization:\n",
        "\n",
        "The idea behind standardization is that the mean (average) and standard deviation (amount of variation/dispersion across the values) is what's affecting our results. Then, we 'standardize' the features to have a given mean and variance."
      ]
    },
    {
      "cell_type": "markdown",
      "metadata": {
        "id": "EsjkGXw-X79g"
      },
      "source": [
        "In Python there are several libraries and tools that can help in data normalization, but in this lab lets see how to do it with Numpy."
      ]
    },
    {
      "cell_type": "code",
      "metadata": {
        "id": "WEcq7y7sGJ43",
        "outputId": "9f480da7-0497-45d0-e3b2-6818fe06e8d6",
        "colab": {
          "base_uri": "https://localhost:8080/"
        }
      },
      "source": [
        " A = np.array([[1,1,1],[4,5,6],[7,8,9]])\n",
        "\n",
        " def standardize(features):\n",
        "     mean = np.mean(features, axis=0)\n",
        "     print(\"Feature wise mean: \", mean)\n",
        "     deviation = np.std(features, axis=0)\n",
        "     print(\"Feature wise deviation: \", deviation)\n",
        "     # to avoid division by 0\n",
        "     std_feat = (features - mean)/(deviation + 1e-8)\n",
        "     return std_feat\n",
        "\n",
        "standardize(A)"
      ],
      "execution_count": 45,
      "outputs": [
        {
          "output_type": "stream",
          "name": "stdout",
          "text": [
            "Feature wise mean:  [4.         4.66666667 5.33333333]\n",
            "Feature wise deviation:  [2.44948974 2.86744176 3.29983165]\n"
          ]
        },
        {
          "output_type": "execute_result",
          "data": {
            "text/plain": [
              "array([[-1.22474487, -1.27872402, -1.3131983 ],\n",
              "       [ 0.        ,  0.11624764,  0.20203051],\n",
              "       [ 1.22474487,  1.16247638,  1.1111678 ]])"
            ]
          },
          "metadata": {},
          "execution_count": 45
        }
      ]
    },
    {
      "cell_type": "code",
      "metadata": {
        "id": "EevlkWTohAI3"
      },
      "source": [
        "# TODO - Fill out this min-max normalization function\n",
        "def min_max_normalization(features):\n",
        "  min = np.min(features,axis=0)\n",
        "  max = np.max(features, axis=1)\n",
        "  features = features - min\n",
        "  features = features/(min-max)\n",
        "  return features"
      ],
      "execution_count": 47,
      "outputs": []
    },
    {
      "cell_type": "code",
      "metadata": {
        "id": "51F5N7iuh2Tf"
      },
      "source": [
        "#@title\n",
        "def min_max_normalization(features):\n",
        "  min = np.min(features, axis=0)\n",
        "  max = np.max(features, axis=1)\n",
        "  \n",
        "  # Bring lower range down to 0\n",
        "  features = features - min\n",
        "  \n",
        "  # Bring upper range down to 1 by dividing by\n",
        "  # the new maximum (original maximum - min)\n",
        "  features = features/(max - min)\n",
        "  return features"
      ],
      "execution_count": 46,
      "outputs": []
    },
    {
      "cell_type": "markdown",
      "metadata": {
        "id": "h_zQA99Xr-Gi"
      },
      "source": [
        "## Linear Regression "
      ]
    },
    {
      "cell_type": "markdown",
      "metadata": {
        "id": "yWMg0Qy2K2sW"
      },
      "source": [
        "Linear regression is one of the first and most basic supervised learning algorithms. \n",
        "\n",
        "Still, a quick linear regresion can give a starting point before trying more complex models, and in some cases it might work just as well.\n",
        "\n",
        "Like in normalization, Python has several libraries that can do linear regression, but let's try to build an implementetion using NumPy."
      ]
    },
    {
      "cell_type": "markdown",
      "metadata": {
        "id": "u-pdjWzpiX0l"
      },
      "source": [
        "Note: This is just to illustrate the power of NumPy, we do not expect you to know and understand linear regression at this time."
      ]
    },
    {
      "cell_type": "code",
      "metadata": {
        "id": "mUOnipZpXuRd",
        "outputId": "b8004556-cd4d-4f83-a7cc-1d143538d339",
        "colab": {
          "base_uri": "https://localhost:8080/",
          "height": 282
        }
      },
      "source": [
        "import numpy as np\n",
        "import matplotlib.pyplot as plt\n",
        "\n",
        "# Generate some data in an array\n",
        "#sample = np.array([[1,3],[2,4],[3,5.5],[4,8.2],[5,10],[6,11],[7,13], [8,14.2], [9,19], [10,20.3]])\n",
        "# Some random data\n",
        "sample = np.array([[x + np.random.random(), x*2 + np.random.random()] for x in range(10)]) \n",
        "\n",
        "# Get the x and y values \n",
        "x = sample[:,0]\n",
        "y = sample[:,1]\n",
        "\n",
        "# Find the number of samples in the data\n",
        "n = x.size\n",
        "\n",
        "# Calculate the mean values for x and y\n",
        "xm, ym = np.mean(x), np.mean(y)\n",
        "\n",
        "# Calculate the coefficients - this is math you don't need to know, don't worry\n",
        "b1 = (np.sum(y*x) - n*ym*xm) / (np.sum((x - xm)**2))\n",
        "b0 = ym - b1*xm\n",
        "\n",
        "# print the results\n",
        "print(\"The coefficients are b0 %2.2f and b1 %2.2f \" % (b0,b1))\n",
        "\n",
        "# Plot the original data\n",
        "plt.plot(x, y, 'o') \n",
        "# Plot the linear regression\n",
        "plt.plot(x, x*b1 + b0)\n",
        "plt.show()"
      ],
      "execution_count": 48,
      "outputs": [
        {
          "output_type": "stream",
          "name": "stdout",
          "text": [
            "The coefficients are b0 -0.30 and b1 1.95 \n"
          ]
        },
        {
          "output_type": "display_data",
          "data": {
            "image/png": "[encoded data removed]",
            "text/plain": [
              "<Figure size 432x288 with 1 Axes>"
            ]
          },
          "metadata": {
            "needs_background": "light"
          }
        }
      ]
    },
    {
      "cell_type": "markdown",
      "metadata": {
        "id": "lCUw1maCmQ0h"
      },
      "source": [
        "This is a look at our first machine learning model!\n",
        "\n",
        "It's easy to dismiss this simple algorithms when you are used to working with more complex and exiting models, but they still have their uses to this day,  so try to consider them when working in a real life problem."
      ]
    },
    {
      "cell_type": "markdown",
      "metadata": {
        "id": "56n4RrxTiylE"
      },
      "source": [
        "## More Information"
      ]
    },
    {
      "cell_type": "markdown",
      "metadata": {
        "id": "bE8pk1MR9Di5"
      },
      "source": [
        "This is the end of the lab, Numpy is a huge library with several functionalities and we cant cover them all in this material. \n",
        "\n",
        "Also, some of you might already be familiar with Numpy and general data manipulation, so if you are curious to learn more we recommend that you check the following links:\n",
        "\n",
        "https://numpy.org/doc/stable/index.html\n",
        "\n",
        "https://numpy.org/doc/stable/user/basics.broadcasting.html"
      ]
    }
  ]
}